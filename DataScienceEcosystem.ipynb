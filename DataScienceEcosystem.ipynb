{
 "cells": [
  {
   "cell_type": "markdown",
   "id": "0a7614fb",
   "metadata": {},
   "source": [
    "# Data Science Tools and Ecosystem"
   ]
  },
  {
   "cell_type": "markdown",
   "id": "b0b61083",
   "metadata": {},
   "source": [
    "<h2> In this notebook, Data Science Tools and Ecosystem are summarized.</h2>\n"
   ]
  },
  {
   "cell_type": "markdown",
   "id": "56c99ce1",
   "metadata": {},
   "source": [
    "<h3>Some of the popular languages that Data Scientists use are:</h3>\n",
    "<ol>\n",
    "    <li>R</li>\n",
    "    <li>SQL</li>\n",
    "     <li>Scala</li>\n",
    "    <li>Python</li>"
   ]
  },
  {
   "cell_type": "markdown",
   "id": "f6f93868",
   "metadata": {},
   "source": [
    "<h3>Some of the commonly used libraries used by Data Scientists include:</h3>\n",
    "<ol>\n",
    "    <li>Pandas</li>\n",
    "    <li>Scikit-learn</li>\n",
    "     <li>Matplotlib</li>\n",
    "    <li>Tensorflow</li>"
   ]
  },
  {
   "cell_type": "markdown",
   "id": "31799455",
   "metadata": {},
   "source": [
    "<h3>Data Science Tools:</h3>\n",
    "<ol>\n",
    "    <li>Jupyter</li>\n",
    "    <li>Python</li>\n",
    "    <li>Tensorflow</li>\n",
    "     <li>Apache Hadoop</li>\n",
    "    <li>Apache Spark</li>\n",
    "    <li>R studio</li>"
   ]
  },
  {
   "cell_type": "markdown",
   "id": "de7929e1",
   "metadata": {},
   "source": [
    "<h3>Below are a few examples of evaluating arithmetic expressions in Python</h3>\n"
   ]
  },
  {
   "cell_type": "code",
   "execution_count": 1,
   "id": "45976cfe",
   "metadata": {},
   "outputs": [
    {
     "data": {
      "text/plain": [
       "17"
      ]
     },
     "execution_count": 1,
     "metadata": {},
     "output_type": "execute_result"
    }
   ],
   "source": [
    "#This a simple arithmetic expression to mutiply then add integers\n",
    "(3*4)+5"
   ]
  },
  {
   "cell_type": "code",
   "execution_count": 4,
   "id": "f68f9785",
   "metadata": {},
   "outputs": [
    {
     "name": "stdout",
     "output_type": "stream",
     "text": [
      "Enter the minutes : 200\n",
      "Hours : 3.3333333333333335\n"
     ]
    }
   ],
   "source": [
    "#This will convert 200 minutes to hours by diving by 60\n",
    "minutes = int(input(\"Enter the minutes : \"))\n",
    "hours = minutes/60\n",
    "print(f\"Hours : {hours}\")"
   ]
  },
  {
   "cell_type": "markdown",
   "id": "5249293f",
   "metadata": {},
   "source": [
    "<b><h2>Objectives:</h2></b>\n",
    "    <ul>\n",
    "        <li>popular languages for Data Science</li>\n",
    "        <li>popular tools for Data Science</li>\n",
    "        <li>popular libraries for Data Science</li>\n",
    "        <li>Arithmetic Expressions</li>\n",
    "        <li>Minutes to Hour convertor</li>"
   ]
  },
  {
   "cell_type": "markdown",
   "id": "7a7c5371",
   "metadata": {},
   "source": [
    "<h2>Author</h2>\n",
    "Dhirendra Yadav"
   ]
  }
 ],
 "metadata": {
  "kernelspec": {
   "display_name": "Python 3 (ipykernel)",
   "language": "python",
   "name": "python3"
  },
  "language_info": {
   "codemirror_mode": {
    "name": "ipython",
    "version": 3
   },
   "file_extension": ".py",
   "mimetype": "text/x-python",
   "name": "python",
   "nbconvert_exporter": "python",
   "pygments_lexer": "ipython3",
   "version": "3.11.4"
  }
 },
 "nbformat": 4,
 "nbformat_minor": 5
}
